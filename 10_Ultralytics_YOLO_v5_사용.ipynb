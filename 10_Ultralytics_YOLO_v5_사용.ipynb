{
  "nbformat": 4,
  "nbformat_minor": 0,
  "metadata": {
    "colab": {
      "name": "10. Ultralytics YOLO v5 사용",
      "provenance": [],
      "collapsed_sections": [],
      "mount_file_id": "1nKgQLEcfrg0XIuwGhB0ie3uqpn8KJL-M",
      "authorship_tag": "ABX9TyMG3nedtXSJx2+8tzu5eC56",
      "include_colab_link": true
    },
    "kernelspec": {
      "name": "python3",
      "display_name": "Python 3"
    },
    "language_info": {
      "name": "python"
    },
    "accelerator": "GPU"
  },
  "cells": [
    {
      "cell_type": "markdown",
      "metadata": {
        "id": "view-in-github",
        "colab_type": "text"
      },
      "source": [
        "<a href=\"https://colab.research.google.com/github/WoogiWooks/DLCV_New/blob/main/10_Ultralytics_YOLO_v5_%EC%82%AC%EC%9A%A9.ipynb\" target=\"_parent\"><img src=\"https://colab.research.google.com/assets/colab-badge.svg\" alt=\"Open In Colab\"/></a>"
      ]
    },
    {
      "cell_type": "markdown",
      "source": [
        "# **Ultralytics YOLO \"\"*v5*\"\" 써보기**\n",
        "## +COCO형태를 Ultralytics YOLO 포맷으로 바꾸기\n",
        "\n",
        "* 앞선 예시들은 VOC 형태를 U.Y 포맷으로 바꿈\n",
        "* voc2coco 와 같은 유틸리티 활용 (ex. JSON2YOLO)"
      ],
      "metadata": {
        "id": "KWf4ASG9tr3e"
      }
    },
    {
      "cell_type": "markdown",
      "source": [
        "## **v5 다운로드**"
      ],
      "metadata": {
        "id": "_qoCDVkBt06P"
      }
    },
    {
      "cell_type": "code",
      "source": [
        "!git clone https://github.com/ultralytics/yolov5\n",
        "!cd yolov5;pip install -qr requirements.txt"
      ],
      "metadata": {
        "colab": {
          "base_uri": "https://localhost:8080/"
        },
        "id": "PzuMjkbMt9OC",
        "outputId": "7bd88764-8e70-4524-f165-93222ff937cf"
      },
      "execution_count": null,
      "outputs": [
        {
          "output_type": "stream",
          "name": "stdout",
          "text": [
            "Cloning into 'yolov5'...\n",
            "remote: Enumerating objects: 10987, done.\u001b[K\n",
            "remote: Counting objects: 100% (7/7), done.\u001b[K\n",
            "remote: Compressing objects: 100% (6/6), done.\u001b[K\n",
            "remote: Total 10987 (delta 3), reused 2 (delta 1), pack-reused 10980\u001b[K\n",
            "Receiving objects: 100% (10987/10987), 11.08 MiB | 31.51 MiB/s, done.\n",
            "Resolving deltas: 100% (7590/7590), done.\n"
          ]
        }
      ]
    },
    {
      "cell_type": "markdown",
      "source": [
        "## **XML 형태의 BCCD 데이터셋을 \"voc2coco\" 를 통해 COCO 포맷으로 바꾸기**"
      ],
      "metadata": {
        "id": "jjCx-WOKu0jY"
      }
    },
    {
      "cell_type": "code",
      "source": [
        "import os\n",
        "\n",
        "!git clone https://github.com/Shenggan/BCCD_Dataset.git\n",
        "!git clone https://github.com/yukkyo/voc2coco.git\n",
        "\n",
        "# voc2coco 에서 사용할 labels.txt 생성\n",
        "# colab 버전은 아래 명령어로 BCCD의 labels.txt를 생성합니다.  \n",
        "with open('/content/BCCD_Dataset/BCCD/labels.txt', \"w\") as f:\n",
        "    f.write(\"WBC\\n\")\n",
        "    f.write(\"RBC\\n\")\n",
        "    f.write(\"Platelets\\n\")\n",
        "\n",
        "!cat /content/BCCD_Dataset/BCCD/labels.txt"
      ],
      "metadata": {
        "colab": {
          "base_uri": "https://localhost:8080/"
        },
        "id": "La0Q31_QvE0N",
        "outputId": "60fc9e13-ce3e-4e63-ffc0-c2b651575325"
      },
      "execution_count": null,
      "outputs": [
        {
          "output_type": "stream",
          "name": "stdout",
          "text": [
            "fatal: destination path 'BCCD_Dataset' already exists and is not an empty directory.\n",
            "fatal: destination path 'voc2coco' already exists and is not an empty directory.\n",
            "WBC\n",
            "RBC\n",
            "Platelets\n"
          ]
        }
      ]
    },
    {
      "cell_type": "code",
      "source": [
        "# VOC를 COCO로 변환 수행\n",
        "# 학습/검증/테스트 용 json annotation을 각각 생성\n",
        "# --ann dir : xml annotation 파일 경로\n",
        "# --ann_ids : 학습/검증/테스트용 메타파일 경로\n",
        "# --labels : 위에서 만든 데이터 내 label 정리한 파일 경로\n",
        "# --output : 결과 저장 경로\n",
        "\n",
        "%cd voc2coco\n",
        "!python voc2coco.py --ann_dir /content/BCCD_Dataset/BCCD/Annotations \\\n",
        "--ann_ids /content/BCCD_Dataset/BCCD/ImageSets/Main/train.txt \\\n",
        "--labels /content/BCCD_Dataset/BCCD/labels.txt \\\n",
        "--output /content/BCCD_Dataset/BCCD/train.json \\\n",
        "--ext xml\n",
        "\n",
        "!python voc2coco.py --ann_dir /content/BCCD_Dataset/BCCD/Annotations \\\n",
        "--ann_ids /content/BCCD_Dataset/BCCD/ImageSets/Main/val.txt \\\n",
        "--labels /content/BCCD_Dataset/BCCD/labels.txt \\\n",
        "--output /content/BCCD_Dataset/BCCD/val.json \\\n",
        "--ext xml\n",
        "\n",
        "!python voc2coco.py --ann_dir /content/BCCD_Dataset/BCCD/Annotations \\\n",
        "--ann_ids /content/BCCD_Dataset/BCCD/ImageSets/Main/test.txt \\\n",
        "--labels /content/BCCD_Dataset/BCCD/labels.txt \\\n",
        "--output /content/BCCD_Dataset/BCCD/test.json \\\n",
        "--ext xml\n",
        "\n",
        "# annotation json 파일을 잘 볼수 있는 jq 유틸리티 셋업. \n",
        "!sudo apt-get install jq\n",
        "!jq . /content/BCCD_Dataset/BCCD/train.json > output.json\n",
        "!tail -100 output.json"
      ],
      "metadata": {
        "colab": {
          "base_uri": "https://localhost:8080/"
        },
        "id": "VIwPrqQBvs79",
        "outputId": "31958b78-1721-468f-c1cf-77ffa03858bd"
      },
      "execution_count": null,
      "outputs": [
        {
          "output_type": "stream",
          "name": "stdout",
          "text": [
            "/content/voc2coco\n",
            "Start converting !\n",
            "100% 205/205 [00:00<00:00, 4890.55it/s]\n",
            "Start converting !\n",
            "100% 87/87 [00:00<00:00, 4792.42it/s]\n",
            "Start converting !\n",
            "100% 72/72 [00:00<00:00, 5039.30it/s]\n",
            "Reading package lists... Done\n",
            "Building dependency tree       \n",
            "Reading state information... Done\n",
            "The following package was automatically installed and is no longer required:\n",
            "  libnvidia-common-470\n",
            "Use 'sudo apt autoremove' to remove it.\n",
            "The following additional packages will be installed:\n",
            "  libjq1 libonig4\n",
            "The following NEW packages will be installed:\n",
            "  jq libjq1 libonig4\n",
            "0 upgraded, 3 newly installed, 0 to remove and 39 not upgraded.\n",
            "Need to get 276 kB of archives.\n",
            "After this operation, 930 kB of additional disk space will be used.\n",
            "Get:1 http://archive.ubuntu.com/ubuntu bionic/universe amd64 libonig4 amd64 6.7.0-1 [119 kB]\n",
            "Get:2 http://archive.ubuntu.com/ubuntu bionic/universe amd64 libjq1 amd64 1.5+dfsg-2 [111 kB]\n",
            "Get:3 http://archive.ubuntu.com/ubuntu bionic/universe amd64 jq amd64 1.5+dfsg-2 [45.6 kB]\n",
            "Fetched 276 kB in 1s (485 kB/s)\n",
            "debconf: unable to initialize frontend: Dialog\n",
            "debconf: (No usable dialog-like program is installed, so the dialog based frontend cannot be used. at /usr/share/perl5/Debconf/FrontEnd/Dialog.pm line 76, <> line 3.)\n",
            "debconf: falling back to frontend: Readline\n",
            "debconf: unable to initialize frontend: Readline\n",
            "debconf: (This frontend requires a controlling tty.)\n",
            "debconf: falling back to frontend: Teletype\n",
            "dpkg-preconfigure: unable to re-open stdin: \n",
            "Selecting previously unselected package libonig4:amd64.\n",
            "(Reading database ... 155320 files and directories currently installed.)\n",
            "Preparing to unpack .../libonig4_6.7.0-1_amd64.deb ...\n",
            "Unpacking libonig4:amd64 (6.7.0-1) ...\n",
            "Selecting previously unselected package libjq1:amd64.\n",
            "Preparing to unpack .../libjq1_1.5+dfsg-2_amd64.deb ...\n",
            "Unpacking libjq1:amd64 (1.5+dfsg-2) ...\n",
            "Selecting previously unselected package jq.\n",
            "Preparing to unpack .../jq_1.5+dfsg-2_amd64.deb ...\n",
            "Unpacking jq (1.5+dfsg-2) ...\n",
            "Setting up libonig4:amd64 (6.7.0-1) ...\n",
            "Setting up libjq1:amd64 (1.5+dfsg-2) ...\n",
            "Setting up jq (1.5+dfsg-2) ...\n",
            "Processing triggers for man-db (2.8.3-2ubuntu0.1) ...\n",
            "Processing triggers for libc-bin (2.27-3ubuntu1.3) ...\n",
            "/sbin/ldconfig.real: /usr/local/lib/python3.7/dist-packages/ideep4py/lib/libmkldnn.so.0 is not a symbolic link\n",
            "\n",
            "      \"category_id\": 2,\n",
            "      \"ignore\": 0,\n",
            "      \"segmentation\": [],\n",
            "      \"image_id\": \"BloodImage_00408\",\n",
            "      \"id\": 2800\n",
            "    },\n",
            "    {\n",
            "      \"area\": 9405,\n",
            "      \"iscrowd\": 0,\n",
            "      \"bbox\": [\n",
            "        102,\n",
            "        0,\n",
            "        99,\n",
            "        95\n",
            "      ],\n",
            "      \"category_id\": 2,\n",
            "      \"ignore\": 0,\n",
            "      \"segmentation\": [],\n",
            "      \"image_id\": \"BloodImage_00408\",\n",
            "      \"id\": 2801\n",
            "    },\n",
            "    {\n",
            "      \"area\": 7128,\n",
            "      \"iscrowd\": 0,\n",
            "      \"bbox\": [\n",
            "        197,\n",
            "        0,\n",
            "        88,\n",
            "        81\n",
            "      ],\n",
            "      \"category_id\": 2,\n",
            "      \"ignore\": 0,\n",
            "      \"segmentation\": [],\n",
            "      \"image_id\": \"BloodImage_00408\",\n",
            "      \"id\": 2802\n",
            "    },\n",
            "    {\n",
            "      \"area\": 756,\n",
            "      \"iscrowd\": 0,\n",
            "      \"bbox\": [\n",
            "        0,\n",
            "        280,\n",
            "        21,\n",
            "        36\n",
            "      ],\n",
            "      \"category_id\": 3,\n",
            "      \"ignore\": 0,\n",
            "      \"segmentation\": [],\n",
            "      \"image_id\": \"BloodImage_00408\",\n",
            "      \"id\": 2803\n",
            "    },\n",
            "    {\n",
            "      \"area\": 1302,\n",
            "      \"iscrowd\": 0,\n",
            "      \"bbox\": [\n",
            "        382,\n",
            "        253,\n",
            "        42,\n",
            "        31\n",
            "      ],\n",
            "      \"category_id\": 3,\n",
            "      \"ignore\": 0,\n",
            "      \"segmentation\": [],\n",
            "      \"image_id\": \"BloodImage_00408\",\n",
            "      \"id\": 2804\n",
            "    },\n",
            "    {\n",
            "      \"area\": 42120,\n",
            "      \"iscrowd\": 0,\n",
            "      \"bbox\": [\n",
            "        309,\n",
            "        318,\n",
            "        260,\n",
            "        162\n",
            "      ],\n",
            "      \"category_id\": 1,\n",
            "      \"ignore\": 0,\n",
            "      \"segmentation\": [],\n",
            "      \"image_id\": \"BloodImage_00408\",\n",
            "      \"id\": 2805\n",
            "    }\n",
            "  ],\n",
            "  \"categories\": [\n",
            "    {\n",
            "      \"supercategory\": \"none\",\n",
            "      \"id\": 1,\n",
            "      \"name\": \"WBC\"\n",
            "    },\n",
            "    {\n",
            "      \"supercategory\": \"none\",\n",
            "      \"id\": 2,\n",
            "      \"name\": \"RBC\"\n",
            "    },\n",
            "    {\n",
            "      \"supercategory\": \"none\",\n",
            "      \"id\": 3,\n",
            "      \"name\": \"Platelets\"\n",
            "    }\n",
            "  ]\n",
            "}\n"
          ]
        }
      ]
    },
    {
      "cell_type": "markdown",
      "source": [
        "## **COCO 포맷을 \"COCO2YOLO\" 를 통해 Ultralytics YOLO 포맷으로 바꾸기**\n",
        "* https://github.com/alexmihalyk23/COCO2YOLO.git 를 약간 수정하여 변환로직 생성\n",
        "* 한개의 json annotation 파일이 여러개의 yolo 포맷 annotation 파일로 변환됨\n",
        "* 경로 인자 설정 후 coco2yolo 를 통해 yolo 포맷으로 변환"
      ],
      "metadata": {
        "id": "e76l5MC1xPQd"
      }
    },
    {
      "cell_type": "code",
      "source": [
        "# 입력인자 확인용\n",
        "# src_img_dir = 이미지가 있는 경로\n",
        "# json_file = json annotation 파일이 있는 경로\n",
        "# tgt_img_dir = 이미지들이 복사되어 들어갈 경로\n",
        "# tgt_anno_dir = U.Y 포맷 annotation 파일이 들어갈 경로\n",
        "\n",
        "\n",
        "# train_yolo_converter = COCO2YOLO(src_img_dir='/content/BCCD_Dataset/BCCD/JPEGImages', json_file='/content/BCCD_Dataset/BCCD/train.json', tgt_img_dir='/content/bccd/images/train', tgt_anno_dir='/content/bccd/labels/train')\n",
        "# train_yolo_converter.coco2yolo()"
      ],
      "metadata": {
        "id": "An_81OmryzLV"
      },
      "execution_count": null,
      "outputs": []
    },
    {
      "cell_type": "code",
      "source": [
        "# 학습/검증/테스트용 images, labels 디렉토리 생성. \n",
        "!mkdir /content/bccd;\n",
        "!cd /content/bccd; mkdir images; mkdir labels;\n",
        "!cd /content/bccd/images; mkdir train; mkdir val; mkdir test\n",
        "!cd /content/bccd/labels; mkdir train; mkdir val; mkdir test"
      ],
      "metadata": {
        "id": "Bmo9hyKPx3JM"
      },
      "execution_count": null,
      "outputs": []
    },
    {
      "cell_type": "code",
      "source": [
        "# https://github.com/alexmihalyk23/COCO2YOLO.git 코드 내용\n",
        "# 약간의 수정을 통해 변환로직 생성\n",
        "# 어떤 원리로 돌아가는건지 이해가 필요하므로 복습하자!!\n",
        "\n",
        "import json\n",
        "import os\n",
        "import shutil\n",
        "\n",
        "class COCO2YOLO:\n",
        "  # 소스 이미지 디렉토리와 Json annotation 파일, 타겟 이미지 디렉토리, 타겟 annotation 디렉토리를 생성자로 입력 받음. \n",
        "  def __init__(self, src_img_dir, json_file, tgt_img_dir, tgt_anno_dir):\n",
        "    self.json_file = json_file\n",
        "    self.src_img_dir = src_img_dir\n",
        "    self.tgt_img_dir = tgt_img_dir\n",
        "    self.tgt_anno_dir = tgt_anno_dir\n",
        "    # json 파일과 타겟 디렉토리가 존재하는지 확인하고, 디렉토리의 경우는 없으면 생성. \n",
        "    self._check_file_and_dir(json_file, tgt_img_dir, tgt_anno_dir)\n",
        "    # json 파일을 메모리로 로딩. \n",
        "    self.labels = json.load(open(json_file, 'r', encoding='utf-8'))\n",
        "    # category id와 이름을 매핑하지만, 실제 class id는 이를 적용하지 않고 별도 적용. \n",
        "    self.coco_id_name_map = self._categories()\n",
        "    self.coco_name_list = list(self.coco_id_name_map.values())\n",
        "    print(\"total images\", len(self.labels['images']))\n",
        "    print(\"total categories\", len(self.labels['categories']))\n",
        "    print(\"total labels\", len(self.labels['annotations']))\n",
        "  \n",
        "  # json 파일과 타겟 디렉토리가 존재하는지 확인하고, 디렉토리의 경우는 없으면 생성. \n",
        "  def _check_file_and_dir(self, file_path, tgt_img_dir, tgt_anno_dir):\n",
        "    if not os.path.exists(file_path):\n",
        "        raise ValueError(\"file not found\")\n",
        "    if not os.path.exists(tgt_img_dir):\n",
        "        os.makedirs(tgt_img_dir)\n",
        "    if not os.path.exists(tgt_anno_dir):\n",
        "        os.makedirs(tgt_anno_dir)\n",
        "\n",
        "  # category id와 이름을 매핑하지만, 추후에 class 명만 활용. \n",
        "  def _categories(self):\n",
        "    categories = {}\n",
        "    for cls in self.labels['categories']:\n",
        "        categories[cls['id']] = cls['name']\n",
        "    return categories\n",
        "  \n",
        "  # annotation에서 모든 image의 파일명(절대 경로 아님)과 width, height 정보 저장. \n",
        "  def _load_images_info(self):\n",
        "    images_info = {}\n",
        "    for image in self.labels['images']:\n",
        "        id = image['id']\n",
        "        file_name = image['file_name']\n",
        "        if file_name.find('\\\\') > -1:\n",
        "            file_name = file_name[file_name.index('\\\\')+1:]\n",
        "        w = image['width']\n",
        "        h = image['height']\n",
        "  \n",
        "        images_info[id] = (file_name, w, h)\n",
        "\n",
        "    return images_info\n",
        "\n",
        "  # ms-coco의 bbox annotation은 yolo format으로 변환. 좌상단 x, y좌표, width, height 기반을 정규화된 center x,y 와 width, height로 변환. \n",
        "  def _bbox_2_yolo(self, bbox, img_w, img_h):\n",
        "    # ms-coco는 좌상단 x, y좌표, width, height\n",
        "    x, y, w, h = bbox[0], bbox[1], bbox[2], bbox[3]\n",
        "    # center x좌표는 좌상단 x좌표에서 width의 절반을 더함. center y좌표는 좌상단 y좌표에서 height의 절반을 더함.  \n",
        "    centerx = bbox[0] + w / 2\n",
        "    centery = bbox[1] + h / 2\n",
        "    # centerx, centery, width, height를 이미지의 width/height로 정규화. \n",
        "    dw = 1 / img_w\n",
        "    dh = 1 / img_h\n",
        "    centerx *= dw\n",
        "    w *= dw\n",
        "    centery *= dh\n",
        "    h *= dh\n",
        "    return centerx, centery, w, h\n",
        "  \n",
        "  # image와 annotation 정보를 기반으로 image명과 yolo annotation 정보 가공. \n",
        "  # 개별 image당 하나의 annotation 정보를 가지도록 변환. \n",
        "  def _convert_anno(self, images_info):\n",
        "    anno_dict = dict()\n",
        "    for anno in self.labels['annotations']:\n",
        "      bbox = anno['bbox']\n",
        "      image_id = anno['image_id']\n",
        "      category_id = anno['category_id']\n",
        "\n",
        "      image_info = images_info.get(image_id)\n",
        "      image_name = image_info[0]\n",
        "      img_w = image_info[1]\n",
        "      img_h = image_info[2]\n",
        "      yolo_box = self._bbox_2_yolo(bbox, img_w, img_h)\n",
        "\n",
        "      anno_info = (image_name, category_id, yolo_box)\n",
        "      anno_infos = anno_dict.get(image_id)\n",
        "      if not anno_infos:\n",
        "        anno_dict[image_id] = [anno_info]\n",
        "      else:\n",
        "        anno_infos.append(anno_info)\n",
        "        anno_dict[image_id] = anno_infos\n",
        "    return anno_dict\n",
        "\n",
        "  # class 명을 파일로 저장하는 로직. 사용하지 않음. \n",
        "  def save_classes(self):\n",
        "    sorted_classes = list(map(lambda x: x['name'], sorted(self.labels['categories'], key=lambda x: x['id'])))\n",
        "    print('coco names', sorted_classes)\n",
        "    with open('coco.names', 'w', encoding='utf-8') as f:\n",
        "      for cls in sorted_classes:\n",
        "          f.write(cls + '\\n')\n",
        "    f.close()\n",
        "  # _convert_anno(images_info)로 만들어진 anno 정보를 개별 yolo anno txt 파일로 생성하는 로직. \n",
        "  # coco2yolo()에서 anno_dict = self._convert_anno(images_info)로 만들어진 anno_dict를 _save_txt()에 입력하여 파일 생성\n",
        "  def _save_txt(self, anno_dict):\n",
        "    # 개별 image별로 소스 image는 타겟이미지 디렉토리로 복사하고, 개별 annotation을 타겟 anno 디렉토리로 생성. \n",
        "    for k, v in anno_dict.items():\n",
        "      # 소스와 타겟 파일의 절대 경로 생성. \n",
        "      src_img_filename = os.path.join(self.src_img_dir, v[0][0])\n",
        "      tgt_anno_filename = os.path.join(self.tgt_anno_dir,v[0][0].split(\".\")[0] + \".txt\")\n",
        "      #print('source image filename:', src_img_filename, 'target anno filename:', tgt_anno_filename)\n",
        "      # 이미지 파일의 경우 타겟 디렉토리로 단순 복사. \n",
        "      shutil.copy(src_img_filename, self.tgt_img_dir)\n",
        "      # 타겟 annotation 출력 파일명으로 classid, bbox 좌표를 object 별로 생성. \n",
        "      with open(tgt_anno_filename, 'w', encoding='utf-8') as f:\n",
        "        #print(k, v)\n",
        "        # 여러개의 object 별로 classid와 bbox 좌표를 생성. \n",
        "        for obj in v:\n",
        "          cat_name = self.coco_id_name_map.get(obj[1])\n",
        "          # category_id는 class 명에 따라 0부터 순차적으로 부여. \n",
        "          category_id = self.coco_name_list.index(cat_name)\n",
        "          #print('cat_name:', cat_name, 'category_id:', category_id)\n",
        "          box = ['{:.6f}'.format(x) for x in obj[2]]\n",
        "          box = ' '.join(box)\n",
        "          line = str(category_id) + ' ' + box\n",
        "          f.write(line + '\\n')\n",
        "\n",
        "  # ms-coco를 yolo format으로 변환\n",
        "  # 위에서 생성한 함수와 init 인자 기반으로 변환 작동 \n",
        "  def coco2yolo(self):\n",
        "    print(\"loading image info...\")\n",
        "    images_info = self._load_images_info()\n",
        "    print(\"loading done, total images\", len(images_info))\n",
        "\n",
        "    print(\"start converting...\")\n",
        "    anno_dict = self._convert_anno(images_info)\n",
        "    print(\"converting done, total labels\", len(anno_dict))\n",
        "\n",
        "    print(\"saving txt file...\")\n",
        "    self._save_txt(anno_dict)\n",
        "    print(\"saving done\")\n",
        "\n",
        "  "
      ],
      "metadata": {
        "id": "Q46_C5d4zxxE"
      },
      "execution_count": null,
      "outputs": []
    },
    {
      "cell_type": "code",
      "source": [
        "# train 용 yolo 데이터 세트 생성. \n",
        "train_yolo_converter = COCO2YOLO(src_img_dir='/content/BCCD_Dataset/BCCD/JPEGImages', json_file='/content/BCCD_Dataset/BCCD/train.json',\n",
        "                                 tgt_img_dir='/content/bccd/images/train', tgt_anno_dir='/content/bccd/labels/train')\n",
        "train_yolo_converter.coco2yolo()\n",
        "\n",
        "# val 용 yolo 데이터 세트 생성. \n",
        "val_yolo_converter = COCO2YOLO(src_img_dir='/content/BCCD_Dataset/BCCD/JPEGImages', json_file='/content/BCCD_Dataset/BCCD/val.json',\n",
        "                                 tgt_img_dir='/content/bccd/images/val', tgt_anno_dir='/content/bccd/labels/val')\n",
        "val_yolo_converter.coco2yolo()\n",
        "\n",
        "# test 용 yolo 데이터 세트 생성. \n",
        "test_yolo_converter = COCO2YOLO(src_img_dir='/content/BCCD_Dataset/BCCD/JPEGImages', json_file='/content/BCCD_Dataset/BCCD/test.json',\n",
        "                                 tgt_img_dir='/content/bccd/images/test', tgt_anno_dir='/content/bccd/labels/test')\n",
        "test_yolo_converter.coco2yolo()"
      ],
      "metadata": {
        "colab": {
          "base_uri": "https://localhost:8080/"
        },
        "id": "RqA92KnC22pz",
        "outputId": "d073ea67-ea74-42e6-8f73-53825edf504a"
      },
      "execution_count": null,
      "outputs": [
        {
          "output_type": "stream",
          "name": "stdout",
          "text": [
            "total images 205\n",
            "total categories 3\n",
            "total labels 2805\n",
            "loading image info...\n",
            "loading done, total images 205\n",
            "start converting...\n",
            "converting done, total labels 205\n",
            "saving txt file...\n",
            "saving done\n",
            "total images 87\n",
            "total categories 3\n",
            "total labels 1138\n",
            "loading image info...\n",
            "loading done, total images 87\n",
            "start converting...\n",
            "converting done, total labels 87\n",
            "saving txt file...\n",
            "saving done\n",
            "total images 72\n",
            "total categories 3\n",
            "total labels 945\n",
            "loading image info...\n",
            "loading done, total images 72\n",
            "start converting...\n",
            "converting done, total labels 72\n",
            "saving txt file...\n",
            "saving done\n"
          ]
        }
      ]
    },
    {
      "cell_type": "markdown",
      "source": [
        "## **yaml 파일과 학습 수행**\n",
        "* v5 버전은 모델의 네트워크 구조의 깊이 정도에 따라 yolov5s, yolov5m, yolov5l, yolov5x 로 나눠짐\n",
        "* weight 인자값으로 이들 중 하나를 입력해주어야 함"
      ],
      "metadata": {
        "id": "LMLbL2Wh3XeT"
      }
    },
    {
      "cell_type": "code",
      "source": [
        "\"\"\" v5 의 특징 \"\"\"\n",
        "\"\"\" 모델이 yolov5s, yolov5m, yolov5l, yolov5x 로 나눠짐 \"\"\"\n",
        "\"\"\" weight 인자값으로 이들 중 하나를 입력해 줌 \"\"\""
      ],
      "metadata": {
        "id": "OS5xBMQV4JoK"
      },
      "execution_count": null,
      "outputs": []
    },
    {
      "cell_type": "code",
      "source": [
        "# yaml 파일 다운로드해서 가져오기\n",
        "\n",
        "!wget -O /content/bccd/bccd.yaml https://raw.githubusercontent.com/chulminkw/DLCV/master/data/util/bccd.yaml"
      ],
      "metadata": {
        "colab": {
          "base_uri": "https://localhost:8080/"
        },
        "id": "YYP-B01D3gsk",
        "outputId": "9372ab89-f49c-4e48-b920-cdf719f4fddc"
      },
      "execution_count": null,
      "outputs": [
        {
          "output_type": "stream",
          "name": "stdout",
          "text": [
            "--2022-02-25 12:32:27--  https://raw.githubusercontent.com/chulminkw/DLCV/master/data/util/bccd.yaml\n",
            "Resolving raw.githubusercontent.com (raw.githubusercontent.com)... 185.199.109.133, 185.199.111.133, 185.199.110.133, ...\n",
            "Connecting to raw.githubusercontent.com (raw.githubusercontent.com)|185.199.109.133|:443... connected.\n",
            "HTTP request sent, awaiting response... 200 OK\n",
            "Length: 184 [text/plain]\n",
            "Saving to: ‘/content/bccd/bccd.yaml’\n",
            "\n",
            "\r/content/bccd/bccd.   0%[                    ]       0  --.-KB/s               \r/content/bccd/bccd. 100%[===================>]     184  --.-KB/s    in 0s      \n",
            "\n",
            "2022-02-25 12:32:27 (10.6 MB/s) - ‘/content/bccd/bccd.yaml’ saved [184/184]\n",
            "\n"
          ]
        }
      ]
    },
    {
      "cell_type": "code",
      "source": [
        "###  10번 미만 epoch는 좋은 성능이 안나오므로 최소 30번 이상 epoch 적용\n",
        "### 시간 관계상 epoch 수 줄여서 진행\n",
        "\n",
        "### large 모델 적용 시 batch size가 8보다 클 경우 colab에서 memory 부족 발생\n",
        "### 큰 모델일수록 학습할 weight 수가 커지므로\n",
        "\n",
        "### 혈소판(Platelets) 의 경우 상대적으로 mAP:0.5~0.95 Detection 성능이 좋지 못함\n",
        "### 백혈구 만큼 학습데이터가 적은것도 이유지만, Object 사이즈가 상대적으로 작음.\n",
        "\n",
        "!cd /content/yolov5; python train.py --img 640 --batch 8 --epochs 10 --data /content/bccd/bccd.yaml --weights yolov5l.pt \\\n",
        "                                     --project=/content/drive/MyDrive/Colab\\ Notebooks/DLCV/8.\\ weight\\ 저장 --name bccd --exist-ok "
      ],
      "metadata": {
        "colab": {
          "base_uri": "https://localhost:8080/"
        },
        "id": "zlCjGQuk3tJV",
        "outputId": "4879b6c8-abb5-4abe-b1c3-4c4551a992fb"
      },
      "execution_count": null,
      "outputs": [
        {
          "output_type": "stream",
          "name": "stdout",
          "text": [
            "\u001b[34m\u001b[1mwandb\u001b[0m: (1) Create a W&B account\n",
            "\u001b[34m\u001b[1mwandb\u001b[0m: (2) Use an existing W&B account\n",
            "\u001b[34m\u001b[1mwandb\u001b[0m: (3) Don't visualize my results\n",
            "\u001b[34m\u001b[1mwandb\u001b[0m: Enter your choice: (30 second timeout) 3\n",
            "\u001b[34m\u001b[1mwandb\u001b[0m: You chose 'Don't visualize my results'\n",
            "\u001b[34m\u001b[1mtrain: \u001b[0mweights=yolov5l.pt, cfg=, data=/content/bccd/bccd.yaml, hyp=data/hyps/hyp.scratch-low.yaml, epochs=10, batch_size=8, imgsz=640, rect=False, resume=False, nosave=False, noval=False, noautoanchor=False, evolve=None, bucket=, cache=None, image_weights=False, device=, multi_scale=False, single_cls=False, optimizer=SGD, sync_bn=False, workers=8, project=/content/drive/MyDrive/Colab Notebooks/DLCV/8. weight 저장, name=bccd, exist_ok=True, quad=False, cos_lr=False, label_smoothing=0.0, patience=100, freeze=[0], save_period=-1, local_rank=-1, entity=None, upload_dataset=False, bbox_interval=-1, artifact_alias=latest\n",
            "\u001b[34m\u001b[1mgithub: \u001b[0mup to date with https://github.com/ultralytics/yolov5 ✅\n",
            "YOLOv5 🚀 v6.1-8-g0f81991 torch 1.10.0+cu111 CUDA:0 (Tesla T4, 15110MiB)\n",
            "\n",
            "\u001b[34m\u001b[1mhyperparameters: \u001b[0mlr0=0.01, lrf=0.01, momentum=0.937, weight_decay=0.0005, warmup_epochs=3.0, warmup_momentum=0.8, warmup_bias_lr=0.1, box=0.05, cls=0.5, cls_pw=1.0, obj=1.0, obj_pw=1.0, iou_t=0.2, anchor_t=4.0, fl_gamma=0.0, hsv_h=0.015, hsv_s=0.7, hsv_v=0.4, degrees=0.0, translate=0.1, scale=0.5, shear=0.0, perspective=0.0, flipud=0.0, fliplr=0.5, mosaic=1.0, mixup=0.0, copy_paste=0.0\n",
            "\u001b[34m\u001b[1mWeights & Biases: \u001b[0mrun 'pip install wandb' to automatically track and visualize YOLOv5 🚀 runs (RECOMMENDED)\n",
            "\u001b[34m\u001b[1mTensorBoard: \u001b[0mStart with 'tensorboard --logdir /content/drive/MyDrive/Colab Notebooks/DLCV/8. weight 저장', view at http://localhost:6006/\n",
            "Downloading https://github.com/ultralytics/yolov5/releases/download/v6.1/yolov5l.pt to yolov5l.pt...\n",
            "100% 89.3M/89.3M [00:00<00:00, 123MB/s]\n",
            "\n",
            "Overriding model.yaml nc=80 with nc=3\n",
            "\n",
            "                 from  n    params  module                                  arguments                     \n",
            "  0                -1  1      7040  models.common.Conv                      [3, 64, 6, 2, 2]              \n",
            "  1                -1  1     73984  models.common.Conv                      [64, 128, 3, 2]               \n",
            "  2                -1  3    156928  models.common.C3                        [128, 128, 3]                 \n",
            "  3                -1  1    295424  models.common.Conv                      [128, 256, 3, 2]              \n",
            "  4                -1  6   1118208  models.common.C3                        [256, 256, 6]                 \n",
            "  5                -1  1   1180672  models.common.Conv                      [256, 512, 3, 2]              \n",
            "  6                -1  9   6433792  models.common.C3                        [512, 512, 9]                 \n",
            "  7                -1  1   4720640  models.common.Conv                      [512, 1024, 3, 2]             \n",
            "  8                -1  3   9971712  models.common.C3                        [1024, 1024, 3]               \n",
            "  9                -1  1   2624512  models.common.SPPF                      [1024, 1024, 5]               \n",
            " 10                -1  1    525312  models.common.Conv                      [1024, 512, 1, 1]             \n",
            " 11                -1  1         0  torch.nn.modules.upsampling.Upsample    [None, 2, 'nearest']          \n",
            " 12           [-1, 6]  1         0  models.common.Concat                    [1]                           \n",
            " 13                -1  3   2757632  models.common.C3                        [1024, 512, 3, False]         \n",
            " 14                -1  1    131584  models.common.Conv                      [512, 256, 1, 1]              \n",
            " 15                -1  1         0  torch.nn.modules.upsampling.Upsample    [None, 2, 'nearest']          \n",
            " 16           [-1, 4]  1         0  models.common.Concat                    [1]                           \n",
            " 17                -1  3    690688  models.common.C3                        [512, 256, 3, False]          \n",
            " 18                -1  1    590336  models.common.Conv                      [256, 256, 3, 2]              \n",
            " 19          [-1, 14]  1         0  models.common.Concat                    [1]                           \n",
            " 20                -1  3   2495488  models.common.C3                        [512, 512, 3, False]          \n",
            " 21                -1  1   2360320  models.common.Conv                      [512, 512, 3, 2]              \n",
            " 22          [-1, 10]  1         0  models.common.Concat                    [1]                           \n",
            " 23                -1  3   9971712  models.common.C3                        [1024, 1024, 3, False]        \n",
            " 24      [17, 20, 23]  1     43080  models.yolo.Detect                      [3, [[10, 13, 16, 30, 33, 23], [30, 61, 62, 45, 59, 119], [116, 90, 156, 198, 373, 326]], [256, 512, 1024]]\n",
            "Model Summary: 468 layers, 46149064 parameters, 46149064 gradients, 108.0 GFLOPs\n",
            "\n",
            "Transferred 607/613 items from yolov5l.pt\n",
            "Scaled weight_decay = 0.0005\n",
            "\u001b[34m\u001b[1moptimizer:\u001b[0m SGD with parameter groups 101 weight (no decay), 104 weight, 104 bias\n",
            "\u001b[34m\u001b[1malbumentations: \u001b[0mversion 1.0.3 required by YOLOv5, but version 0.1.12 is currently installed\n",
            "\u001b[34m\u001b[1mtrain: \u001b[0mScanning '/content/bccd/labels/train' images and labels...205 found, 0 missing, 0 empty, 0 corrupt: 100% 205/205 [00:00<00:00, 1279.91it/s]\n",
            "\u001b[34m\u001b[1mtrain: \u001b[0mNew cache created: /content/bccd/labels/train.cache\n",
            "\u001b[34m\u001b[1mval: \u001b[0mScanning '/content/bccd/labels/val' images and labels...87 found, 0 missing, 0 empty, 0 corrupt: 100% 87/87 [00:00<00:00, 506.23it/s]\n",
            "\u001b[34m\u001b[1mval: \u001b[0mNew cache created: /content/bccd/labels/val.cache\n",
            "Plotting labels to /content/drive/MyDrive/Colab Notebooks/DLCV/8. weight 저장/bccd/labels.jpg... \n",
            "\n",
            "\u001b[34m\u001b[1mAutoAnchor: \u001b[0m5.76 anchors/target, 1.000 Best Possible Recall (BPR). Current anchors are a good fit to dataset ✅\n",
            "Image sizes 640 train, 640 val\n",
            "Using 2 dataloader workers\n",
            "Logging results to \u001b[1m/content/drive/MyDrive/Colab Notebooks/DLCV/8. weight 저장/bccd\u001b[0m\n",
            "Starting training for 10 epochs...\n",
            "\n",
            "     Epoch   gpu_mem       box       obj       cls    labels  img_size\n",
            "       0/9     5.19G   0.09828    0.1794   0.03704        98       640: 100% 26/26 [00:12<00:00,  2.07it/s]\n",
            "               Class     Images     Labels          P          R     mAP@.5 mAP@.5:.95: 100% 6/6 [00:02<00:00,  2.16it/s]\n",
            "                 all         87       1138      0.173      0.223      0.104     0.0275\n",
            "\n",
            "     Epoch   gpu_mem       box       obj       cls    labels  img_size\n",
            "       1/9     5.64G   0.07661    0.1712   0.02478       110       640: 100% 26/26 [00:09<00:00,  2.79it/s]\n",
            "               Class     Images     Labels          P          R     mAP@.5 mAP@.5:.95: 100% 6/6 [00:02<00:00,  2.05it/s]\n",
            "                 all         87       1138      0.721      0.189     0.0486     0.0134\n",
            "\n",
            "     Epoch   gpu_mem       box       obj       cls    labels  img_size\n",
            "       2/9     5.64G   0.08104    0.1507   0.01516       170       640: 100% 26/26 [00:09<00:00,  2.85it/s]\n",
            "               Class     Images     Labels          P          R     mAP@.5 mAP@.5:.95: 100% 6/6 [00:01<00:00,  3.30it/s]\n",
            "                 all         87       1138     0.0785      0.513     0.0694     0.0148\n",
            "\n",
            "     Epoch   gpu_mem       box       obj       cls    labels  img_size\n",
            "       3/9     5.64G   0.08363    0.1407   0.01248        73       640: 100% 26/26 [00:08<00:00,  3.02it/s]\n",
            "               Class     Images     Labels          P          R     mAP@.5 mAP@.5:.95: 100% 6/6 [00:01<00:00,  3.58it/s]\n",
            "                 all         87       1138     0.0638      0.357     0.0445     0.0128\n",
            "\n",
            "     Epoch   gpu_mem       box       obj       cls    labels  img_size\n",
            "       4/9     5.64G   0.08024    0.1307   0.01188        79       640: 100% 26/26 [00:09<00:00,  2.89it/s]\n",
            "               Class     Images     Labels          P          R     mAP@.5 mAP@.5:.95: 100% 6/6 [00:01<00:00,  3.57it/s]\n",
            "                 all         87       1138      0.323      0.812      0.438      0.157\n",
            "\n",
            "     Epoch   gpu_mem       box       obj       cls    labels  img_size\n",
            "       5/9     5.64G   0.07638    0.1377    0.0107       139       640: 100% 26/26 [00:09<00:00,  2.81it/s]\n",
            "               Class     Images     Labels          P          R     mAP@.5 mAP@.5:.95: 100% 6/6 [00:01<00:00,  3.72it/s]\n",
            "                 all         87       1138      0.539      0.555      0.527      0.145\n",
            "\n",
            "     Epoch   gpu_mem       box       obj       cls    labels  img_size\n",
            "       6/9     5.64G   0.07719    0.1289  0.008827       111       640: 100% 26/26 [00:08<00:00,  2.97it/s]\n",
            "               Class     Images     Labels          P          R     mAP@.5 mAP@.5:.95: 100% 6/6 [00:01<00:00,  3.84it/s]\n",
            "                 all         87       1138      0.353      0.678      0.522       0.23\n",
            "\n",
            "     Epoch   gpu_mem       box       obj       cls    labels  img_size\n",
            "       7/9     5.64G   0.06896    0.1291  0.007635       155       640: 100% 26/26 [00:09<00:00,  2.84it/s]\n",
            "               Class     Images     Labels          P          R     mAP@.5 mAP@.5:.95: 100% 6/6 [00:01<00:00,  3.85it/s]\n",
            "                 all         87       1138      0.627      0.673      0.721      0.303\n",
            "\n",
            "     Epoch   gpu_mem       box       obj       cls    labels  img_size\n",
            "       8/9     5.64G   0.06004    0.1366  0.006763       100       640: 100% 26/26 [00:09<00:00,  2.80it/s]\n",
            "               Class     Images     Labels          P          R     mAP@.5 mAP@.5:.95: 100% 6/6 [00:01<00:00,  4.22it/s]\n",
            "                 all         87       1138      0.567      0.824      0.761      0.379\n",
            "\n",
            "     Epoch   gpu_mem       box       obj       cls    labels  img_size\n",
            "       9/9     5.64G   0.05358    0.1386  0.006246       111       640: 100% 26/26 [00:09<00:00,  2.86it/s]\n",
            "               Class     Images     Labels          P          R     mAP@.5 mAP@.5:.95: 100% 6/6 [00:01<00:00,  3.97it/s]\n",
            "                 all         87       1138      0.801       0.83       0.85      0.494\n",
            "\n",
            "10 epochs completed in 0.040 hours.\n",
            "Optimizer stripped from /content/drive/MyDrive/Colab Notebooks/DLCV/8. weight 저장/bccd/weights/last.pt, 92.8MB\n",
            "Optimizer stripped from /content/drive/MyDrive/Colab Notebooks/DLCV/8. weight 저장/bccd/weights/best.pt, 92.8MB\n",
            "\n",
            "Validating /content/drive/MyDrive/Colab Notebooks/DLCV/8. weight 저장/bccd/weights/best.pt...\n",
            "Fusing layers... \n",
            "Model Summary: 367 layers, 46119048 parameters, 0 gradients, 107.8 GFLOPs\n",
            "               Class     Images     Labels          P          R     mAP@.5 mAP@.5:.95: 100% 6/6 [00:05<00:00,  1.12it/s]\n",
            "                 all         87       1138      0.802      0.831       0.85      0.493\n",
            "                 WBC         87         87      0.894      0.989      0.986       0.67\n",
            "                 RBC         87        968      0.777      0.805      0.829      0.515\n",
            "           Platelets         87         83      0.734      0.699      0.734      0.295\n",
            "Results saved to \u001b[1m/content/drive/MyDrive/Colab Notebooks/DLCV/8. weight 저장/bccd\u001b[0m\n"
          ]
        }
      ]
    },
    {
      "cell_type": "code",
      "source": [
        "# Counter 모듈 통한 Class별 갯수 확인하기 in Trainset\n",
        "\n",
        "from collections import Counter\n",
        "\n",
        "anno_list = train_yolo_converter.labels['annotations']\n",
        "category_list = [x['category_id'] for x in anno_list]\n",
        "\n",
        "Counter(category_list)"
      ],
      "metadata": {
        "colab": {
          "base_uri": "https://localhost:8080/"
        },
        "id": "xWHfYjLG7Dhq",
        "outputId": "c8f0ec63-2ead-4677-bfaa-037517c69a0f"
      },
      "execution_count": null,
      "outputs": [
        {
          "output_type": "execute_result",
          "data": {
            "text/plain": [
              "Counter({1: 214, 2: 2382, 3: 209})"
            ]
          },
          "metadata": {},
          "execution_count": 22
        }
      ]
    },
    {
      "cell_type": "markdown",
      "source": [
        "## **Train 이후 Inference 수행**"
      ],
      "metadata": {
        "id": "u09nB53V7TbK"
      }
    },
    {
      "cell_type": "code",
      "source": [
        "!cd /content/yolov5;python detect.py --source /content/bccd/images/test/BloodImage_00011.jpg \\\n",
        "                            --weights /content/drive/MyDrive/Colab\\ Notebooks/DLCV/8.\\ weight\\ 저장/bccd/weights/best.pt --conf 0.2 \\\n",
        "                            --project=/content/data/output --name=run_image --exist-ok --line-thickness 2"
      ],
      "metadata": {
        "colab": {
          "base_uri": "https://localhost:8080/"
        },
        "id": "c1XzoX117bPJ",
        "outputId": "ac5eafcb-cc65-4b1b-c8d2-5f8e9a42f367"
      },
      "execution_count": null,
      "outputs": [
        {
          "output_type": "stream",
          "name": "stdout",
          "text": [
            "\u001b[34m\u001b[1mdetect: \u001b[0mweights=['/content/drive/MyDrive/Colab Notebooks/DLCV/8. weight 저장/bccd/weights/best.pt'], source=/content/bccd/images/test/BloodImage_00011.jpg, data=data/coco128.yaml, imgsz=[640, 640], conf_thres=0.2, iou_thres=0.45, max_det=1000, device=, view_img=False, save_txt=False, save_conf=False, save_crop=False, nosave=False, classes=None, agnostic_nms=False, augment=False, visualize=False, update=False, project=/content/data/output, name=run_image, exist_ok=True, line_thickness=2, hide_labels=False, hide_conf=False, half=False, dnn=False\n",
            "YOLOv5 🚀 v6.1-8-g0f81991 torch 1.10.0+cu111 CUDA:0 (Tesla T4, 15110MiB)\n",
            "\n",
            "Fusing layers... \n",
            "Model Summary: 367 layers, 46119048 parameters, 0 gradients, 107.8 GFLOPs\n",
            "image 1/1 /content/bccd/images/test/BloodImage_00011.jpg: 480x640 1 WBC, 38 RBCs, 1 Platelets, Done. (0.063s)\n",
            "Speed: 0.8ms pre-process, 63.3ms inference, 1.9ms NMS per image at shape (1, 3, 640, 640)\n",
            "Results saved to \u001b[1m/content/data/output/run_image\u001b[0m\n"
          ]
        }
      ]
    },
    {
      "cell_type": "code",
      "source": [
        "from IPython.display import Image, clear_output \n",
        "\n",
        "Image(filename='/content/data/output/run_image/BloodImage_00011.jpg', width=800)"
      ],
      "metadata": {
        "colab": {
          "base_uri": "https://localhost:8080/",
          "height": 617
        },
        "id": "PWALjWGZ714T",
        "outputId": "352c05da-4140-4568-d738-5eb79c22b1e4"
      },
      "execution_count": null,
      "outputs": [
        {
          "output_type": "execute_result",
          "data": {
            "image/jpeg": "[encoded data removed]",
            "text/plain": [
              "<IPython.core.display.Image object>"
            ]
          },
          "metadata": {
            "image/jpeg": {
              "width": 800
            }
          },
          "execution_count": 24
        }
      ]
    },
    {
      "cell_type": "markdown",
      "source": [
        "## **Test 데이터셋을 통한 Evaluation**"
      ],
      "metadata": {
        "id": "XNnVDFOG8Ak7"
      }
    },
    {
      "cell_type": "code",
      "source": [
        "!cd /content/yolov5; python val.py --weights /content/drive/MyDrive/Colab\\ Notebooks/DLCV/8.\\ weight\\ 저장/bccd/weights/best.pt  --data /content/bccd/bccd.yaml \\\n",
        "                           --project /content/data/output --name=test_result --exist-ok --img 640 --iou 0.65\n"
      ],
      "metadata": {
        "colab": {
          "base_uri": "https://localhost:8080/"
        },
        "id": "Ge4KOzhP8JqC",
        "outputId": "a046ec61-9f83-4b8d-a4a0-8a9883250322"
      },
      "execution_count": null,
      "outputs": [
        {
          "output_type": "stream",
          "name": "stdout",
          "text": [
            "\u001b[34m\u001b[1mval: \u001b[0mdata=/content/bccd/bccd.yaml, weights=['/content/drive/MyDrive/Colab Notebooks/DLCV/8. weight 저장/bccd/weights/best.pt'], batch_size=32, imgsz=640, conf_thres=0.001, iou_thres=0.65, task=val, device=, workers=8, single_cls=False, augment=False, verbose=False, save_txt=False, save_hybrid=False, save_conf=False, save_json=False, project=/content/data/output, name=test_result, exist_ok=False, half=False, dnn=False\n",
            "YOLOv5 🚀 v6.1-8-g0f81991 torch 1.10.0+cu111 CUDA:0 (Tesla T4, 15110MiB)\n",
            "\n",
            "Fusing layers... \n",
            "Model Summary: 367 layers, 46119048 parameters, 0 gradients, 107.8 GFLOPs\n",
            "\u001b[34m\u001b[1mval: \u001b[0mScanning '/content/bccd/labels/val.cache' images and labels... 87 found, 0 missing, 0 empty, 0 corrupt: 100% 87/87 [00:00<?, ?it/s]\n",
            "               Class     Images     Labels          P          R     mAP@.5 mAP@.5:.95: 100% 3/3 [00:06<00:00,  2.17s/it]\n",
            "                 all         87       1138      0.771      0.771      0.816      0.477\n",
            "                 WBC         87         87      0.844      0.989      0.984      0.668\n",
            "                 RBC         87        968      0.774      0.723       0.79      0.492\n",
            "           Platelets         87         83      0.694      0.602      0.673      0.271\n",
            "Speed: 0.2ms pre-process, 21.0ms inference, 3.0ms NMS per image at shape (32, 3, 640, 640)\n",
            "Results saved to \u001b[1m/content/data/output/test_result2\u001b[0m\n"
          ]
        }
      ]
    }
  ]
}